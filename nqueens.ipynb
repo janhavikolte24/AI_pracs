{
 "cells": [
  {
   "cell_type": "markdown",
   "id": "7099d74a",
   "metadata": {},
   "source": [
    "### Assignment 2\n",
    "### Name: Sudeep Mangalvedhekar\n",
    "### Roll No: 33147\n",
    "### Batch: K9"
   ]
  },
  {
   "cell_type": "code",
   "execution_count": 12,
   "id": "3689e787",
   "metadata": {},
   "outputs": [],
   "source": [
    "import random\n",
    "from array import array"
   ]
  },
  {
   "cell_type": "code",
   "execution_count": 13,
   "id": "adedab8e",
   "metadata": {},
   "outputs": [],
   "source": [
    "board = [[0,0,0,0,0,0,0,0],[0,0,0,0,0,0,0,0],[0,0,0,0,0,0,0,0],[0,0,0,0,0,0,0,0],[0,0,0,0,0,0,0,0],[0,0,0,0,0,0,0,0],[0,0,0,0,0,0,0,0],[0,0,0,0,0,0,0,0]]\n",
    "neighbour = [[0,0,0,0,0,0,0,0],[0,0,0,0,0,0,0,0],[0,0,0,0,0,0,0,0],[0,0,0,0,0,0,0,0],[0,0,0,0,0,0,0,0],[0,0,0,0,0,0,0,0],[0,0,0,0,0,0,0,0],[0,0,0,0,0,0,0,0]]\n",
    "queens = [0,0,0,0,0,0,0,0]"
   ]
  },
  {
   "cell_type": "code",
   "execution_count": 14,
   "id": "02796a5e",
   "metadata": {},
   "outputs": [],
   "source": [
    "def collision_count(column,row):\n",
    "    coll = 0\n",
    "   \n",
    "    for j in range(8):\n",
    "        if j == row:\n",
    "            continue\n",
    "        if board[column][j] == 1 :\n",
    "            coll += 1\n",
    "    \n",
    "    while(column < 7 and row < 7):\n",
    "        row += 1\n",
    "        column +=1\n",
    "        if board[column][row] == 1:\n",
    "            coll += 1\n",
    "  \n",
    "    while(column > 0 and row > 0):\n",
    "        row -= 1\n",
    "        column -=1\n",
    "        if board[column][row] == 1:\n",
    "            coll += 1\n",
    "    \n",
    "    while(column > 0 and row < 7):\n",
    "        row += 1\n",
    "        column -=1\n",
    "        if board[column][row] == 1:\n",
    "            coll += 1\n",
    " \n",
    "    while(column < 7 and row > 0):\n",
    "        row -= 1\n",
    "        column +=1\n",
    "        if board[column][row] == 1:\n",
    "            coll += 1\n",
    "                     \n",
    "    return coll     "
   ]
  },
  {
   "cell_type": "code",
   "execution_count": 15,
   "id": "6b041660",
   "metadata": {},
   "outputs": [],
   "source": [
    "def totalcoll():\n",
    "    totcoll = 0\n",
    "    for i in range(8):\n",
    "        totcoll += collision_count(i,queens[i])\n",
    "    return totcoll"
   ]
  },
  {
   "cell_type": "code",
   "execution_count": 16,
   "id": "83fabcd0",
   "metadata": {},
   "outputs": [
    {
     "name": "stdout",
     "output_type": "stream",
     "text": [
      "0 0 0 1 0 0 0 0 \n",
      "0 0 0 1 0 0 0 0 \n",
      "0 1 0 0 0 0 0 0 \n",
      "0 0 0 0 0 0 1 0 \n",
      "0 0 0 1 0 0 0 0 \n",
      "0 0 0 1 0 0 0 0 \n",
      "0 0 0 0 1 0 0 0 \n",
      "0 0 0 0 0 0 0 1 \n"
     ]
    }
   ],
   "source": [
    "while True:\n",
    " \n",
    "    for i in range(8):\n",
    "        queens[i] = random.randrange(0,8)\n",
    "        board[i][queens[i]] = 1\n",
    "\n",
    "\n",
    "\n",
    "    totalcollision =  totalcoll()\n",
    "    \n",
    "    while True:\n",
    "        for i in range(8):\n",
    "             oldqueen = queens[i]\n",
    "        for j in range(8):       \n",
    "            queens[i] = j\n",
    "            neighbour[i][j] = totalcoll()\n",
    "        queens[i] = oldqueen\n",
    "        min = neighbour[0][0]\n",
    "        minqueencol = 0\n",
    "        minqueenrow = 0\n",
    "        for i in range(8):\n",
    "            for j in range(8):\n",
    "                if(neighbour[i][j]<min):\n",
    "                    min = neighbour[i][j]\n",
    "                    minqueenrow = j\n",
    "                    minqueencol = i\n",
    "\n",
    "        if min<totalcollision:\n",
    "            totalcollision = min\n",
    "            queens[minqueencol] = minqueenrow\n",
    "        else:\n",
    "            break\n",
    "\n",
    "    if totalcollision == 0:\n",
    "        break\n",
    "\n",
    "for i in range(8):\n",
    "    for j in range(8):\n",
    "        print(board[i][j], end=\" \")\n",
    "    print()\n"
   ]
  },
  {
   "cell_type": "code",
   "execution_count": null,
   "id": "51c11cec",
   "metadata": {},
   "outputs": [],
   "source": []
  }
 ],
 "metadata": {
  "kernelspec": {
   "display_name": "Python 3",
   "language": "python",
   "name": "python3"
  },
  "language_info": {
   "codemirror_mode": {
    "name": "ipython",
    "version": 3
   },
   "file_extension": ".py",
   "mimetype": "text/x-python",
   "name": "python",
   "nbconvert_exporter": "python",
   "pygments_lexer": "ipython3",
   "version": "3.8.8"
  }
 },
 "nbformat": 4,
 "nbformat_minor": 5
}
